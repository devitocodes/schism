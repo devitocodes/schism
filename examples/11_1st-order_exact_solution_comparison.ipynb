{
 "cells": [
  {
   "cell_type": "markdown",
   "id": "1bc53974",
   "metadata": {},
   "source": [
    "# 1st-order exact solution comparison\n",
    "\n",
    "In this notebook, we will compare a solution of the 1st-order acoustic wave equation using an immersed boundary to the previously-used exact solution."
   ]
  },
  {
   "cell_type": "code",
   "execution_count": null,
   "id": "5fb0a3a7",
   "metadata": {},
   "outputs": [],
   "source": []
  }
 ],
 "metadata": {
  "kernelspec": {
   "display_name": "Python 3 (ipykernel)",
   "language": "python",
   "name": "python3"
  },
  "language_info": {
   "codemirror_mode": {
    "name": "ipython",
    "version": 3
   },
   "file_extension": ".py",
   "mimetype": "text/x-python",
   "name": "python",
   "nbconvert_exporter": "python",
   "pygments_lexer": "ipython3",
   "version": "3.8.5"
  }
 },
 "nbformat": 4,
 "nbformat_minor": 5
}
